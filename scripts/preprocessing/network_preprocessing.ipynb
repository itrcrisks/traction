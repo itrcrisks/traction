{
 "cells": [
  {
   "cell_type": "code",
   "execution_count": 11,
   "id": "250a2782",
   "metadata": {},
   "outputs": [],
   "source": [
    "import os\n",
    "import pandas as pd\n",
    "import geopandas as gpd\n",
    "from tqdm import tqdm\n",
    "tqdm.pandas()"
   ]
  },
  {
   "cell_type": "markdown",
   "id": "d175f5cb",
   "metadata": {},
   "source": [
    "Argentina Network Preprocessing"
   ]
  },
  {
   "cell_type": "code",
   "execution_count": null,
   "id": "6f9cfb5d",
   "metadata": {},
   "outputs": [],
   "source": [
    "# Define paths \n",
    "arg_country_folder = \"/Volumes/IT/git_projects/traction/casestudies/argentina\"\n",
    "arg_incoming_data = os.path.join(arg_country_folder, \"incoming_data\", \"networks\")\n",
    "arg_output_data = os.path.join(arg_country_folder, \"data\",\"networks\")"
   ]
  },
  {
   "cell_type": "code",
   "execution_count": null,
   "id": "a2c1e347",
   "metadata": {},
   "outputs": [],
   "source": [
    "# Read shapefiles\n",
    "arg_airport_nodes_shp = gpd.read_file(os.path.join(arg_incoming_data,\"air_nodes.shp\"))\n",
    "arg_airport_edges_shp = gpd.read_file(os.path.join(arg_incoming_data,\"air_edges.shp\"))\n",
    "\n",
    "arg_rail_nodes_shp = gpd.read_file(os.path.join(arg_incoming_data,\"rail_nodes.shp\"))\n",
    "arg_rail_edges_shp = gpd.read_file(os.path.join(arg_incoming_data,\"rail_edges.shp\"))\n",
    "\n",
    "arg_port_nodes_shp = gpd.read_file(os.path.join(arg_incoming_data,\"port_nodes.shp\"))\n",
    "arg_port_edges_shp = gpd.read_file(os.path.join(arg_incoming_data,\"port_edges.shp\"))\n",
    "\n",
    "arg_road_nodes_shp = gpd.read_file(os.path.join(arg_incoming_data,\"road_nodes.shp\"))\n",
    "arg_road_edges_shp = gpd.read_file(os.path.join(arg_incoming_data,\"road_edges.shp\"))"
   ]
  },
  {
   "cell_type": "code",
   "execution_count": null,
   "id": "c40709d1",
   "metadata": {},
   "outputs": [],
   "source": [
    "# Read csv files\n",
    "arg_airport_nodes_csv = gpd.read_file(os.path.join(arg_incoming_data,\"air_nodes.csv\"), ignore_geometry = True)\n",
    "arg_airport_edges_csv = gpd.read_file(os.path.join(arg_incoming_data,\"air_edges.csv\"), ignore_geometry = True)\n",
    "\n",
    "arg_rail_nodes_csv = gpd.read_file(os.path.join(arg_incoming_data,\"rail_nodes.csv\"), ignore_geometry = True)\n",
    "arg_rail_edges_csv = gpd.read_file(os.path.join(arg_incoming_data,\"rail_edges.csv\"), ignore_geometry = True)\n",
    "\n",
    "arg_port_nodes_csv = gpd.read_file(os.path.join(arg_incoming_data,\"port_nodes.csv\"), ignore_geometry = True)\n",
    "arg_port_edges_csv = gpd.read_file(os.path.join(arg_incoming_data,\"port_edges.csv\"), ignore_geometry = True)\n",
    "\n",
    "arg_road_nodes_csv = gpd.read_file(os.path.join(arg_incoming_data,\"road_nodes.csv\"), ignore_geometry = True)\n",
    "arg_road_edges_csv = gpd.read_file(os.path.join(arg_incoming_data,\"road_edges.csv\"), ignore_geometry = True)"
   ]
  },
  {
   "cell_type": "code",
   "execution_count": null,
   "id": "3f4ee455",
   "metadata": {},
   "outputs": [],
   "source": [
    "# Add geometry from shapefile to csv file using merge\n",
    "arg_airport_nodes = arg_airport_nodes_csv.merge(arg_airport_nodes_shp[[\"node_id\",\"geometry\"]],how = \"left\", on = \"node_id\")\n",
    "arg_airport_edges = arg_airport_edges_csv.merge(arg_airport_edges_shp[[\"edge_id\",\"geometry\"]],how = \"left\", on = \"edge_id\")\n",
    "\n",
    "arg_rail_nodes = arg_rail_nodes_csv.merge(arg_rail_nodes_shp[[\"node_id\",\"geometry\"]],how = \"left\", on = \"node_id\")\n",
    "arg_rail_edges = arg_rail_edges_csv.merge(arg_rail_edges_shp[[\"edge_id\",\"geometry\"]],how = \"left\", on = \"edge_id\")\n",
    "\n",
    "arg_port_nodes = arg_port_nodes_csv.merge(arg_port_nodes_shp[[\"node_id\",\"geometry\"]],how = \"left\", on = \"node_id\")\n",
    "arg_port_edges = arg_port_edges_csv.merge(arg_port_edges_shp[[\"edge_id\",\"geometry\"]],how = \"left\", on = \"edge_id\")\n",
    "\n",
    "arg_road_nodes = arg_road_nodes_csv.merge(arg_road_nodes_shp[[\"node_id\",\"geometry\"]],how = \"left\", on = \"node_id\")\n",
    "arg_road_edges = arg_road_edges_csv.merge(arg_road_edges_shp[[\"edge_id\",\"geometry\"]],how = \"left\", on = \"edge_id\")"
   ]
  },
  {
   "cell_type": "code",
   "execution_count": null,
   "id": "880e0945",
   "metadata": {},
   "outputs": [],
   "source": [
    "# Convert to geopandas\n",
    "arg_airport_nodes = gpd.GeoDataFrame(arg_airport_nodes, geometry='geometry')\n",
    "arg_airport_edges = gpd.GeoDataFrame(arg_airport_edges, geometry='geometry')\n",
    "\n",
    "arg_rail_nodes = gpd.GeoDataFrame(arg_rail_nodes, geometry='geometry')\n",
    "arg_rail_edges = gpd.GeoDataFrame(arg_rail_edges, geometry='geometry')\n",
    "\n",
    "arg_port_nodes = gpd.GeoDataFrame(arg_port_nodes, geometry='geometry')\n",
    "arg_port_edges = gpd.GeoDataFrame(arg_port_edges, geometry='geometry')\n",
    "\n",
    "arg_road_nodes = gpd.GeoDataFrame(arg_road_nodes, geometry='geometry')\n",
    "arg_road_edges = gpd.GeoDataFrame(arg_road_edges, geometry='geometry')"
   ]
  },
  {
   "cell_type": "code",
   "execution_count": null,
   "id": "8ebba83e",
   "metadata": {},
   "outputs": [],
   "source": [
    "# Export geopandas to geopackages\n",
    "arg_airport_nodes.to_file(os.path.join(arg_output_data,\"airport.gpkg\"), layer='nodes', driver=\"GPKG\")\n",
    "#arg_airport_edges.to_file(os.path.join(arg_output_data,\"airport.gpkg\"), layer='edges', driver=\"GPKG\")\n",
    "\n",
    "arg_rail_nodes.to_file(os.path.join(arg_output_data,\"rail.gpkg\"), layer='nodes', driver=\"GPKG\")\n",
    "arg_rail_edges.to_file(os.path.join(arg_output_data,\"rail.gpkg\"), layer='edges', driver=\"GPKG\")\n",
    "\n",
    "arg_port_nodes.to_file(os.path.join(arg_output_data,\"port.gpkg\"), layer='nodes', driver=\"GPKG\")\n",
    "#arg_port_edges.to_file(os.path.join(arg_output_data,\"port.gpkg\"), layer='edges', driver=\"GPKG\")\n",
    "\n",
    "arg_road_nodes.to_file(os.path.join(arg_output_data,\"road.gpkg\"), layer='nodes', driver=\"GPKG\")\n",
    "arg_road_edges.to_file(os.path.join(arg_output_data,\"road.gpkg\"), layer='edges', driver=\"GPKG\")"
   ]
  },
  {
   "cell_type": "markdown",
   "id": "b99691a8",
   "metadata": {},
   "source": [
    "Vietnam Network Preprocessing"
   ]
  },
  {
   "cell_type": "code",
   "execution_count": null,
   "id": "05517b05",
   "metadata": {},
   "outputs": [],
   "source": [
    "# Define paths \n",
    "vnm_country_folder = \"/Volumes/IT/git_projects/traction/casestudies/vietnam\"\n",
    "vnm_incoming_data = os.path.join(vnm_country_folder, \"incoming_data\", \"networks\")\n",
    "vnm_output_data = os.path.join(vnm_country_folder, \"data\",\"networks\")"
   ]
  },
  {
   "cell_type": "code",
   "execution_count": null,
   "id": "6a82ca90",
   "metadata": {},
   "outputs": [],
   "source": [
    "# Read shapefiles\n",
    "vnm_airport_nodes_shp = gpd.read_file(os.path.join(vnm_incoming_data,\"air_nodes.shp\"))\n",
    "vnm_airport_edges_shp = gpd.read_file(os.path.join(vnm_incoming_data,\"air_edges.shp\"))\n",
    "\n",
    "vnm_rail_nodes_shp = gpd.read_file(os.path.join(vnm_incoming_data,\"rail_nodes.shp\"))\n",
    "vnm_rail_edges_shp = gpd.read_file(os.path.join(vnm_incoming_data,\"rail_edges.shp\"))\n",
    "\n",
    "vnm_port_nodes_shp = gpd.read_file(os.path.join(vnm_incoming_data,\"inland_nodes.shp\"))\n",
    "vnm_port_edges_shp = gpd.read_file(os.path.join(vnm_incoming_data,\"inland_edges.shp\"))\n",
    "\n",
    "vnm_road_nodes_shp = gpd.read_file(os.path.join(vnm_incoming_data,\"road_nodes.shp\"))\n",
    "vnm_road_edges_shp = gpd.read_file(os.path.join(vnm_incoming_data,\"road_edges.shp\"))"
   ]
  },
  {
   "cell_type": "code",
   "execution_count": null,
   "id": "77a50262",
   "metadata": {},
   "outputs": [],
   "source": [
    "# Read csv files\n",
    "vnm_airport_nodes_csv = pd.read_excel(os.path.join(vnm_incoming_data,\"national_nodes.xlsx\"), sheet_name = \"air\")\n",
    "vnm_airport_edges_csv = pd.read_excel(os.path.join(vnm_incoming_data,\"national_edges.xlsx\"), sheet_name = \"air\")\n",
    "\n",
    "vnm_rail_nodes_csv = pd.read_excel(os.path.join(vnm_incoming_data,\"national_nodes.xlsx\"), sheet_name = \"rail\")\n",
    "vnm_rail_edges_csv = pd.read_excel(os.path.join(vnm_incoming_data,\"national_edges.xlsx\"), sheet_name = \"rail\")\n",
    "\n",
    "vnm_port_nodes_csv = pd.read_excel(os.path.join(vnm_incoming_data,\"national_nodes.xlsx\"), sheet_name = \"inland\")\n",
    "vnm_port_edges_csv = pd.read_excel(os.path.join(vnm_incoming_data,\"national_edges.xlsx\"), sheet_name = \"inland\")\n",
    "\n",
    "vnm_road_nodes_csv = pd.read_excel(os.path.join(vnm_incoming_data,\"national_nodes.xlsx\"), sheet_name = \"road\")\n",
    "vnm_road_edges_csv = pd.read_excel(os.path.join(vnm_incoming_data,\"national_edges.xlsx\"), sheet_name = \"road\")"
   ]
  },
  {
   "cell_type": "code",
   "execution_count": null,
   "id": "741abf16",
   "metadata": {},
   "outputs": [],
   "source": [
    "# Add geometry from shapefile to csv file using merge\n",
    "vnm_airport_nodes = vnm_airport_nodes_csv.merge(vnm_airport_nodes_shp[[\"node_id\",\"geometry\"]],how = \"left\", on = \"node_id\")\n",
    "vnm_airport_edges = vnm_airport_edges_csv.merge(vnm_airport_edges_shp[[\"edge_id\",\"geometry\"]],how = \"left\", on = \"edge_id\")\n",
    "\n",
    "vnm_rail_nodes = vnm_rail_nodes_csv.merge(vnm_rail_nodes_shp[[\"node_id\",\"geometry\"]],how = \"left\", on = \"node_id\")\n",
    "vnm_rail_edges = vnm_rail_edges_csv.merge(vnm_rail_edges_shp[[\"edge_id\",\"geometry\"]],how = \"left\", on = \"edge_id\")\n",
    "\n",
    "vnm_port_nodes = vnm_port_nodes_csv.merge(vnm_port_nodes_shp[[\"node_id\",\"geometry\"]],how = \"left\", on = \"node_id\")\n",
    "vnm_port_edges = vnm_port_edges_csv.merge(vnm_port_edges_shp[[\"edge_id\",\"geometry\"]],how = \"left\", on = \"edge_id\")\n",
    "\n",
    "vnm_road_nodes = vnm_road_nodes_csv.merge(vnm_road_nodes_shp[[\"node_id\",\"geometry\"]],how = \"left\", on = \"node_id\")\n",
    "vnm_road_edges = vnm_road_edges_csv.merge(vnm_road_edges_shp[[\"edge_id\",\"geometry\"]],how = \"left\", on = \"edge_id\")"
   ]
  },
  {
   "cell_type": "code",
   "execution_count": null,
   "id": "f4473e9f",
   "metadata": {},
   "outputs": [],
   "source": [
    "# Convert to geopandas\n",
    "vnm_airport_nodes = gpd.GeoDataFrame(vnm_airport_nodes, geometry='geometry')\n",
    "vnm_airport_edges = gpd.GeoDataFrame(vnm_airport_edges, geometry='geometry')\n",
    "\n",
    "vnm_rail_nodes = gpd.GeoDataFrame(vnm_rail_nodes, geometry='geometry')\n",
    "vnm_rail_edges = gpd.GeoDataFrame(vnm_rail_edges, geometry='geometry')\n",
    "\n",
    "vnm_port_nodes = gpd.GeoDataFrame(vnm_port_nodes, geometry='geometry')\n",
    "vnm_port_edges = gpd.GeoDataFrame(vnm_port_edges, geometry='geometry')\n",
    "\n",
    "vnm_road_nodes = gpd.GeoDataFrame(vnm_road_nodes, geometry='geometry')\n",
    "vnm_road_edges = gpd.GeoDataFrame(vnm_road_edges, geometry='geometry')"
   ]
  },
  {
   "cell_type": "code",
   "execution_count": null,
   "id": "32eed332",
   "metadata": {},
   "outputs": [],
   "source": [
    "# Export shapefiles to geopackages\n",
    "vnm_airport_nodes.to_file(os.path.join(vnm_output_data,\"airport.gpkg\"), layer='nodes', driver=\"GPKG\")\n",
    "#vnm_airport_edges.to_file(os.path.join(vnm_output_data,\"airport.gpkg\"), layer='edges', driver=\"GPKG\")\n",
    "\n",
    "vnm_rail_nodes.to_file(os.path.join(vnm_output_data,\"rail.gpkg\"), layer='nodes', driver=\"GPKG\")\n",
    "vnm_rail_edges.to_file(os.path.join(vnm_output_data,\"rail.gpkg\"), layer='edges', driver=\"GPKG\")\n",
    "\n",
    "vnm_port_nodes.to_file(os.path.join(vnm_output_data,\"port.gpkg\"), layer='nodes', driver=\"GPKG\")\n",
    "#vnm_port_edges.to_file(os.path.join(vnm_output_data,\"port.gpkg\"), layer='edges', driver=\"GPKG\")\n",
    "\n",
    "vnm_road_nodes.to_file(os.path.join(vnm_output_data,\"road.gpkg\"), layer='nodes', driver=\"GPKG\")\n",
    "vnm_road_edges.to_file(os.path.join(vnm_output_data,\"road.gpkg\"), layer='edges', driver=\"GPKG\")"
   ]
  },
  {
   "cell_type": "markdown",
   "id": "7b648431",
   "metadata": {},
   "source": [
    "Tanzania Network Preprocessing"
   ]
  },
  {
   "cell_type": "code",
   "execution_count": 79,
   "id": "9fcd9329",
   "metadata": {},
   "outputs": [],
   "source": [
    "# Define paths\n",
    "tza_country_folder = \"/Volumes/IT/git_projects/traction/casestudies/tanzania\"\n",
    "tza_incoming_data = os.path.join(tza_country_folder, \"incoming_data\", \"networks\")\n",
    "tza_output_data = os.path.join(tza_country_folder, \"data\",\"networks\")"
   ]
  },
  {
   "cell_type": "code",
   "execution_count": 80,
   "id": "1fe48786",
   "metadata": {},
   "outputs": [],
   "source": [
    "# Read shapefiles\n",
    "tza_airport_nodes_shp = gpd.read_file(os.path.join(tza_incoming_data,\"airports\",\"tz_airport_node_flows.shp\"))\n",
    "\n",
    "tza_rail_nodes_shp = gpd.read_file(os.path.join(tza_incoming_data,\"railways\",\"tanzania-rail-nodes-processed.shp\"))\n",
    "tza_rail_edges_shp = gpd.read_file(os.path.join(tza_incoming_data,\"railways\",\"tanzania-rail-ways-processed.shp\"))\n",
    "\n",
    "tza_port_nodes_shp = gpd.read_file(os.path.join(tza_incoming_data,\"ports\",\"tz_port_nodes.shp\"))\n",
    "tza_port_edges_shp = gpd.read_file(os.path.join(tza_incoming_data,\"ports\",\"tz_port_edges.shp\")) \n",
    "\n",
    "tza_future_port_nodes_shp = gpd.read_file(os.path.join(tza_incoming_data,\"ports\",\"tz_port_nodes_future.shp\"))\n",
    "tza_future_port_edges_shp = gpd.read_file(os.path.join(tza_incoming_data,\"ports\",\"tz_port_edges_future.shp\")) \n",
    "\n",
    "tza_road_nodes_shp = gpd.read_file(os.path.join(tza_incoming_data,\"roads\",\"tanroads_nodes_main_all_2017_adj.shp\"))\n",
    "tza_road_edges_shp = gpd.read_file(os.path.join(tza_incoming_data,\"roads\",\"tanroads_main_all_2017_adj.shp\"))\n",
    "\n",
    "tza_future_road_edges_shp = gpd.read_file(os.path.join(tza_incoming_data,\"roads\",\"tanroads_main_all_2030_adj.shp\"))"
   ]
  },
  {
   "cell_type": "code",
   "execution_count": 81,
   "id": "02e70f98",
   "metadata": {},
   "outputs": [],
   "source": [
    "# Read csv files [commented lines do not have csv files]\n",
    "tza_airport_nodes_csv = gpd.read_file(os.path.join(tza_incoming_data,\"airports\",\"tanzania_airports.csv\"), ignore_geometry = True)\n",
    "#tza_airport_edges_csv = gpd.read_file(os.path.join(tza_incoming_data,\"airports\",\"\"), ignore_geometry = True)\n",
    "\n",
    "#tza_rail_nodes_csv = gpd.read_file(os.path.join(tza_incoming_data,\"railways\",\"\"), ignore_geometry = True)\n",
    "tza_rail_edges_csv = gpd.read_file(os.path.join(tza_incoming_data,\"railways\",\"tanzania-rail-ways-processed.csv\"), ignore_geometry = True)\n",
    "\n",
    "tza_port_nodes_csv = gpd.read_file(os.path.join(tza_incoming_data,\"ports\",\"TZ_ports.csv\"), ignore_geometry = True)\n",
    "tza_port_edges_csv = gpd.read_file(os.path.join(tza_incoming_data,\"ports\",\"tz_port_edges.csv\"), ignore_geometry = True)\n",
    "\n",
    "#tza_road_nodes_csv = gpd.read_file(os.path.join(tza_incoming_data,\"roads\",\"\"), ignore_geometry = True)\n",
    "tza_road_edges_csv = gpd.read_file(os.path.join(tza_incoming_data,\"roads\",\"tanroads_main_all_2017_adj.csv\"), ignore_geometry = True)\n",
    "\n",
    "#tza_road_edges_shp.link = tza_road_edges_shp.link.astype(object)\n",
    "tza_road_edges_csv.link = tza_road_edges_csv.link.astype(int)"
   ]
  },
  {
   "cell_type": "code",
   "execution_count": 82,
   "id": "c82d8d5c",
   "metadata": {},
   "outputs": [],
   "source": [
    "# Add geometry from shapefile to csv file using merge\n",
    "tza_airport_nodes = tza_airport_nodes_csv.merge(tza_airport_nodes_shp[[\"ident\",\"geometry\"]],how = \"left\", on = \"ident\")\n",
    "#tza_airport_edges = tza_airport_edges_csv.merge(tza_airport_edges_shp[[\"\",\"geometry\"]],how = \"left\", on = \"\")\n",
    "\n",
    "#tza_rail_nodes = tza_rail_nodes_csv.merge(tza_rail_nodes_shp[[\"\",\"geometry\"]],how = \"left\", on = \"\")\n",
    "tza_rail_edges = tza_rail_edges_csv.merge(tza_rail_edges_shp[[\"id\",\"geometry\"]],how = \"left\", on = \"id\")\n",
    "\n",
    "tza_port_nodes = tza_port_nodes_csv.merge(tza_port_nodes_shp[[\"id\",\"geometry\"]],how = \"left\", on = \"id\")\n",
    "tza_port_edges = tza_port_edges_csv.merge(tza_port_edges_shp[[\"edgeid\",\"geometry\"]],how = \"left\", on = \"edgeid\")\n",
    "\n",
    "#tza_road_nodes = tza_road_nodes_csv.merge(tza_road_nodes_shp[[\"\",\"geometry\"]],how = \"left\", on = \"\")\n",
    "tza_road_edges = tza_road_edges_csv.merge(tza_road_edges_shp[[\"link\",\"geometry\"]],how = \"left\", on = \"link\")"
   ]
  },
  {
   "cell_type": "code",
   "execution_count": 83,
   "id": "fcb7a691",
   "metadata": {},
   "outputs": [],
   "source": [
    "# Convert to geopandas\n",
    "tza_airport_nodes = gpd.GeoDataFrame(tza_airport_nodes, geometry='geometry')\n",
    "#tza_airport_edges = gpd.GeoDataFrame(tza_airport_edges_shp, geometry='geometry') #shp used\n",
    "\n",
    "tza_rail_nodes = gpd.GeoDataFrame(tza_rail_nodes_shp, geometry='geometry') #shp used\n",
    "tza_rail_edges = gpd.GeoDataFrame(tza_rail_edges, geometry='geometry')\n",
    "\n",
    "tza_port_nodes = gpd.GeoDataFrame(tza_port_nodes, geometry='geometry')\n",
    "tza_port_edges = gpd.GeoDataFrame(tza_port_edges, geometry='geometry')\n",
    "\n",
    "tza_road_nodes = gpd.GeoDataFrame(tza_road_nodes_shp, geometry='geometry') #shp used\n",
    "tza_road_edges = gpd.GeoDataFrame(tza_road_edges, geometry='geometry')"
   ]
  },
  {
   "cell_type": "code",
   "execution_count": 84,
   "id": "7e2de07f",
   "metadata": {},
   "outputs": [
    {
     "name": "stderr",
     "output_type": "stream",
     "text": [
      "100%|██████████████████████████████████████| 485/485 [00:00<00:00, 37901.99it/s]\n"
     ]
    }
   ],
   "source": [
    "# Create new railway column \n",
    "\n",
    "tza_rail_edges[\"railway\"] = tza_rail_edges.progress_apply(lambda x:f\"rail\",axis=1)"
   ]
  },
  {
   "cell_type": "code",
   "execution_count": 85,
   "id": "9d05dd43",
   "metadata": {},
   "outputs": [
    {
     "name": "stderr",
     "output_type": "stream",
     "text": [
      "100%|████████████████████████████████████| 1399/1399 [00:00<00:00, 44695.03it/s]\n",
      "100%|████████████████████████████████████| 1691/1691 [00:00<00:00, 51899.75it/s]\n"
     ]
    }
   ],
   "source": [
    "# Create new column for node_id and edge_id\n",
    "\n",
    "#tza_airport_nodes[\"node_id\"] = tza_airport_nodes.index\n",
    "#tza_airport_nodes[\"node_id\"]=tza_airport_nodes.progress_apply(lambda x:f\"airport_node_{x.node_id}\",axis=1)\n",
    "\n",
    "#tza_airport_edges[\"edge_id\"] = tza_airport_edges.index\n",
    "#tza_airport_edges[\"edge_id\"]=tza_airport_edges.progress_apply(lambda x:f\"airport_edge_{x.edge_id}\",axis=1)\n",
    "\n",
    "#tza_rail_nodes[\"node_id\"] = tza_rail_nodes.index\n",
    "#tza_rail_nodes[\"node_id\"]=tza_rail_nodes.progress_apply(lambda x:f\"rail_node_{x.node_id}\",axis=1)\n",
    "\n",
    "#tza_rail_edges[\"edge_id\"] = tza_rail_edges.index\n",
    "#tza_rail_edges[\"edge_id\"]=tza_rail_edges.progress_apply(lambda x:f\"rail_edge_{x.edge_id}\",axis=1)\n",
    "\n",
    "#tza_port_nodes[\"node_id\"] = tza_port_nodes.index\n",
    "#tza_port_nodes[\"node_id\"]=tza_port_nodes.progress_apply(lambda x:f\"port_node_{x.node_id}\",axis=1)\n",
    "\n",
    "#tza_port_edges[\"edge_id\"] = tza_port_edges.index\n",
    "#tza_port_edges[\"edge_id\"]=tza_port_edges.progress_apply(lambda x:f\"port_edge_{x.edge_id}\",axis=1)\n",
    "\n",
    "tza_road_nodes[\"node_id\"] = tza_road_nodes.index\n",
    "tza_road_nodes[\"node_id\"]=tza_road_nodes.progress_apply(lambda x:f\"road_node_{x.node_id}\",axis=1)\n",
    "\n",
    "tza_road_edges[\"edge_id\"] = tza_road_edges.index\n",
    "tza_road_edges[\"edge_id\"]=tza_road_edges.progress_apply(lambda x:f\"rail_edge_{x.edge_id}\",axis=1)"
   ]
  },
  {
   "cell_type": "code",
   "execution_count": 86,
   "id": "2bb1463b",
   "metadata": {},
   "outputs": [],
   "source": [
    "# Export geopandas to geopackages\n",
    "tza_airport_nodes.to_file(os.path.join(tza_output_data,\"airport.gpkg\"), layer='nodes', driver=\"GPKG\")\n",
    "#tza_airport_edges.to_file(os.path.join(tza_output_data,\"airport.gpkg\"), layer='edges', driver=\"GPKG\")\n",
    "\n",
    "tza_rail_nodes.to_file(os.path.join(tza_output_data,\"rail.gpkg\"), layer='nodes', driver=\"GPKG\")\n",
    "tza_rail_edges.to_file(os.path.join(tza_output_data,\"rail.gpkg\"), layer='edges', driver=\"GPKG\")\n",
    "\n",
    "tza_port_nodes.to_file(os.path.join(tza_output_data,\"port.gpkg\"), layer='nodes', driver=\"GPKG\")\n",
    "#tza_port_edges.to_file(os.path.join(tza_output_data,\"port.gpkg\"), layer='edges', driver=\"GPKG\")\n",
    "\n",
    "tza_road_nodes.to_file(os.path.join(tza_output_data,\"road.gpkg\"), layer='nodes', driver=\"GPKG\")\n",
    "tza_road_edges.to_file(os.path.join(tza_output_data,\"road.gpkg\"), layer='edges', driver=\"GPKG\")"
   ]
  },
  {
   "cell_type": "markdown",
   "id": "5b718aa5",
   "metadata": {},
   "source": [
    "East Africa Network Preprocessing"
   ]
  },
  {
   "cell_type": "code",
   "execution_count": null,
   "id": "230dfc5f",
   "metadata": {},
   "outputs": [],
   "source": [
    "# Define paths\n",
    "afr_country_folder = \"/Volumes/IT/git_projects/traction/casestudies/africa\"\n",
    "afr_incoming_data = os.path.join(afr_country_folder, \"incoming_data\", \"networks\")\n",
    "afr_output_data = os.path.join(afr_country_folder, \"data\",\"networks\")"
   ]
  },
  {
   "cell_type": "code",
   "execution_count": null,
   "id": "02da8b87",
   "metadata": {},
   "outputs": [],
   "source": [
    "afr_road_nodes = gpd.read_file(os.path.join(afr_output_data,\"africa_roads_modified.gpkg\"), layer=\"nodes\")\n",
    "afr_road_edges = gpd.read_file(os.path.join(afr_output_data,\"africa_roads_modified.gpkg\"), layer=\"edges\")"
   ]
  },
  {
   "cell_type": "code",
   "execution_count": null,
   "id": "04608e40",
   "metadata": {},
   "outputs": [],
   "source": [
    "afr_road_nodes.columns\n",
    "afr_road_nodes.rename(columns ={'CONTINENT':'continent'}, inplace=True)\n",
    "afr_road_nodes.drop('old_node_id', inplace=True, axis=1)"
   ]
  },
  {
   "cell_type": "code",
   "execution_count": null,
   "id": "0cfcfe4c",
   "metadata": {},
   "outputs": [],
   "source": [
    "print(afr_road_nodes.columns)\n",
    "print(afr_road_edges.columns)"
   ]
  }
 ],
 "metadata": {
  "kernelspec": {
   "display_name": "Python 3 (ipykernel)",
   "language": "python",
   "name": "python3"
  },
  "language_info": {
   "codemirror_mode": {
    "name": "ipython",
    "version": 3
   },
   "file_extension": ".py",
   "mimetype": "text/x-python",
   "name": "python",
   "nbconvert_exporter": "python",
   "pygments_lexer": "ipython3",
   "version": "3.9.7"
  }
 },
 "nbformat": 4,
 "nbformat_minor": 5
}
