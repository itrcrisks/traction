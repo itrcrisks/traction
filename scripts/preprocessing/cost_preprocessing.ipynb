{
 "cells": [
  {
   "cell_type": "code",
   "execution_count": 43,
   "id": "979a823e",
   "metadata": {},
   "outputs": [],
   "source": [
    "# -*- coding: utf-8 -*-\n",
    "\"\"\"Estimate costs and benefits, either under fixed parameters or under a sensitivity analysis,\n",
    "varying the cost components.\n",
    "\"\"\"\n",
    "import os\n",
    "import sys\n",
    "import pandas as pd\n",
    "import geopandas as gpd\n",
    "import numpy as np\n",
    "from tqdm import tqdm\n",
    "tqdm.pandas()"
   ]
  },
  {
   "cell_type": "markdown",
   "id": "4155c7a2",
   "metadata": {},
   "source": [
    "Argentina Cost Preprocessing [incomplete]"
   ]
  },
  {
   "cell_type": "markdown",
   "id": "64bd108a",
   "metadata": {},
   "source": [
    "QUESTION: We only have data for roads, what about rails? We also do not have min and max data, should it be multiplied by a factor? I also wanted to check that we are using the climate uplift cost. "
   ]
  },
  {
   "cell_type": "code",
   "execution_count": 64,
   "id": "ae04b043",
   "metadata": {},
   "outputs": [],
   "source": [
    "# Define paths\n",
    "incoming_data_path = \"/Volumes/IT/git_projects/traction/casestudies/argentina/incoming_data\"\n",
    "road_path = \"/Volumes/IT/git_projects/traction/casestudies/argentina/data/networks/rail.gpkg\""
   ]
  },
  {
   "cell_type": "code",
   "execution_count": 62,
   "id": "fa1919d0",
   "metadata": {},
   "outputs": [],
   "source": [
    "adapt = pd.read_excel(os.path.join(incoming_data_path,'costs','ROCKS - Database - ARNG (Version 2.3) Feb2018.xls'),\n",
    "            sheet_name = 'Resultados Consolidados',\n",
    "            skiprows=6,\n",
    "            nrows=9,\n",
    "            usecols = [2,4,5]).fillna('No value')\n",
    "adapt.columns = ['option','cost_perkm','climate_uplift_perkm']\n",
    "adapt = adapt[~adapt.option.isin(['Subtotal','No value'])]\n",
    "\n",
    "cost_rehab = adapt.loc[adapt['option']=='Reconstruction','cost_perkm'].values[0] + \\\n",
    "                adapt.loc[adapt['option']=='Reconstruction','climate_uplift_perkm'].values[0]"
   ]
  },
  {
   "cell_type": "code",
   "execution_count": 69,
   "id": "42cf7211",
   "metadata": {},
   "outputs": [],
   "source": [
    "# Add road costs\n",
    "road_edges = gpd.read_file(road_path, layer = \"edges\")\n",
    "\n",
    "# Set cost_unit\n",
    "road_edges[\"cost_unit\"] = \"USD/km\"\n",
    "\n",
    "# Set cost_min\n",
    "road_edges[\"cost_min\"] = cost_rehab * 1000\n",
    "\n",
    "# Set cost_max\n",
    "road_edges[\"cost_max\"] = cost_rehab * 1000\n",
    "\n",
    "### Export to file\n",
    "road_edges.to_file(road_path, layer='edges', driver='GPKG')"
   ]
  },
  {
   "cell_type": "markdown",
   "id": "758184e4",
   "metadata": {},
   "source": [
    "Vietnam Cost Preprocessing [incomplete]"
   ]
  },
  {
   "cell_type": "markdown",
   "id": "dc950459",
   "metadata": {},
   "source": [
    "QUESTION: Cost assigning code uses asset_type column but this column is empty in the network. Am I looking in the wrong place or was this generated in a different way?"
   ]
  },
  {
   "cell_type": "code",
   "execution_count": null,
   "id": "5d62a77e",
   "metadata": {},
   "outputs": [],
   "source": [
    "def damage_costs_per_area_vietnam(x, rehab_costs,length_factor,national=False):\n",
    "    \"\"\"Estimate the total cost and benefits for a road segment. This function is used within a\n",
    "    pandas apply\n",
    "\n",
    "    Parameters\n",
    "    ----------\n",
    "    x\n",
    "        a row from the road segment dataframe that we are considering\n",
    "    rehab_costs\n",
    "        rehabilitation costs after a disaster\n",
    "\n",
    "    Returns\n",
    "    -------\n",
    "    uncer_output : list\n",
    "        outcomes for the initial adaptation costs of this road segment\n",
    "    tot_uncer_output : list\n",
    "        outcomes for the total adaptation costs of this road segment\n",
    "    rel_share : list\n",
    "        relative share of each factor in the initial adaptation cost of this road segment\n",
    "    tot_rel_share : list\n",
    "        relative share of each factor in the total adaptation cost of this road segment\n",
    "    bc_ratio : list\n",
    "        benefit cost ratios for this road segment\n",
    "\n",
    "    \"\"\"\n",
    "    # Identify terrain type of the road\n",
    "    if x.terrain.lower().strip() == 'mountain' or x.asset_type == 'Bridge':\n",
    "        ter_type = 'mountain'\n",
    "    elif x.terrain.lower().strip() == 'flat':\n",
    "        ter_type = 'flat'\n",
    "\n",
    "    rehab_costs['rate_m'] = length_factor*rehab_costs.basic_cost\n",
    "    # Identify asset type, which is the main driver of the costs\n",
    "    if (x.asset_type == 'Expressway') | ((national == True) & (x.road_class == 1)):\n",
    "        rehab_cost = rehab_costs.loc[('Expressway', ter_type), 'rate_m']\n",
    "        rehab_corr = rehab_costs.loc[('Expressway', ter_type), 'design_width']\n",
    "    elif (x.asset_type == 'National roads') | ((national == True) & (x.road_class == 2)):\n",
    "        rehab_cost = rehab_costs.loc[('National  2x Carriageway', ter_type), 'rate_m']\n",
    "        rehab_corr = rehab_costs.loc[('National  2x Carriageway', ter_type), 'design_width']\n",
    "    elif (x.asset_type == 'National roads') | ((national == True) & (x.road_class == 3)):\n",
    "        rehab_cost = rehab_costs.loc[('National  1x Carriageway', ter_type), 'rate_m']\n",
    "        rehab_corr = rehab_costs.loc[('National  1x Carriageway', ter_type), 'design_width']\n",
    "    elif (x.asset_type == 'Provincial roads') | ((national == True) & (x.road_class == 4)):\n",
    "        rehab_cost = rehab_costs.loc[('Provincial', ter_type), 'rate_m']\n",
    "        rehab_corr = rehab_costs.loc[('Provincial', ter_type), 'design_width']\n",
    "    elif ((x.asset_type == 'Urban roads/Named roads') | (x.asset_type == 'Boulevard')) | ((national == True) & (x.road_class == 5)):\n",
    "        rehab_cost = rehab_costs.loc[('District', ter_type), 'rate_m']\n",
    "        rehab_corr = rehab_costs.loc[('District', ter_type), 'design_width']\n",
    "    elif (x.asset_type == 'Other roads') | ((national == True) & (x.road_class == 6)):\n",
    "        rehab_cost = rehab_costs.loc[('Commune', ter_type), 'rate_m']\n",
    "        rehab_corr = rehab_costs.loc[('Commune', ter_type), 'design_width']\n",
    "    elif x.asset_type == 'Bridge':\n",
    "        rehab_cost = rehab_costs.rate_m.max()\n",
    "        rehab_corr = rehab_costs.design_width.max()\n",
    "    else:\n",
    "        rehab_cost = rehab_costs.rate_m.min()\n",
    "        rehab_corr = rehab_costs.design_width.min()\n",
    "\n",
    "    rehab_cost = x.width*rehab_cost/rehab_corr\n",
    "\n",
    "    return rehab_cost"
   ]
  },
  {
   "cell_type": "markdown",
   "id": "240dd514",
   "metadata": {},
   "source": [
    "Tanzania Cost Preprocessing"
   ]
  },
  {
   "cell_type": "code",
   "execution_count": 79,
   "id": "18784d2a",
   "metadata": {},
   "outputs": [],
   "source": [
    "# Define paths\n",
    "data_path = \"/Volumes/IT/git_projects/traction/casestudies/tanzania/data/\"\n",
    "road_path = \"/Volumes/IT/git_projects/traction/casestudies/tanzania/data/networks/road.gpkg\"\n",
    "rail_path = \"/Volumes/IT/git_projects/traction/casestudies/tanzania/data/networks/rail.gpkg\""
   ]
  },
  {
   "cell_type": "code",
   "execution_count": 56,
   "id": "d4cb07f6",
   "metadata": {},
   "outputs": [],
   "source": [
    "# Read rail costs\n",
    "costs_path = os.path.join(data_path,\"costs\",\"road_and_rail_costs.xlsx\")\n",
    "rail_costs = pd.read_excel(costs_path, sheet_name = \"rail_costs\")\n",
    "\n",
    "rail_edges = gpd.read_file(rail_path, layer = \"edges\")\n",
    "\n",
    "rail_edges = rail_edges.to_crs(epsg=4326)\n",
    "rail_edges = rail_edges.to_crs(epsg=32736)\n",
    "\n",
    "rail_edges['length_m'] = rail_edges.apply(lambda x:x.geometry.length,axis=1)\n",
    "\n",
    "### Add rail costs \n",
    "\n",
    "# Set cost_unit\n",
    "rail_edges[\"cost_unit\"] = \"USD/m\"\n",
    "# Set cost_min\n",
    "rail_edges[\"cost_min\"] = rail_costs.cost_min[0] * 0.001\n",
    "# Set cost_max\n",
    "rail_edges[\"cost_max\"] = rail_costs.cost_max[0] * 0.001\n",
    "\n",
    "### Export to file\n",
    "rail_edges.to_file(rail_path, layer='edges', driver='GPKG')"
   ]
  },
  {
   "cell_type": "code",
   "execution_count": null,
   "id": "0932d6c5",
   "metadata": {},
   "outputs": [],
   "source": [
    "# Rail costs"
   ]
  },
  {
   "cell_type": "code",
   "execution_count": 120,
   "id": "0dad50e6",
   "metadata": {},
   "outputs": [],
   "source": [
    "costs_path = os.path.join(data_path,\"costs\",\"road_and_rail_costs.xlsx\")\n",
    "rail_costs = pd.read_excel(costs_path, sheet_name = \"rail_costs\")"
   ]
  },
  {
   "cell_type": "code",
   "execution_count": 119,
   "id": "7c7cebd4",
   "metadata": {},
   "outputs": [],
   "source": [
    "rail_edges = gpd.read_file(rail_path, layer = \"edges\")"
   ]
  },
  {
   "cell_type": "code",
   "execution_count": 136,
   "id": "fc26dacc",
   "metadata": {},
   "outputs": [],
   "source": [
    "rail_edges[\"cost_min\"] = float(rail_costs.cost_min.values[0])\n",
    "rail_edges[\"cost_max\"] = float(rail_costs.cost_max.values[0])\n",
    "rail_edges[\"cost_unit\"] = str(rail_costs.cost_unit.values[0])"
   ]
  },
  {
   "cell_type": "code",
   "execution_count": 138,
   "id": "fd200371",
   "metadata": {},
   "outputs": [],
   "source": [
    "rail_edges.to_file(rail_path, layer='edges', driver='GPKG')"
   ]
  },
  {
   "cell_type": "code",
   "execution_count": 72,
   "id": "1089b2ad",
   "metadata": {},
   "outputs": [],
   "source": [
    "# Road costs"
   ]
  },
  {
   "cell_type": "code",
   "execution_count": 108,
   "id": "eaa0dd95",
   "metadata": {},
   "outputs": [],
   "source": [
    "def get_road_rehab_costs(x, rehab_costs):\n",
    "    if x.roadclass == \"T\":\n",
    "        highway = \"trunk\"\n",
    "    if x.roadclass == \"R\":\n",
    "        highway = \"primary\"\n",
    "    if x.roadclass  == \"N\":\n",
    "        highway = \"primary\"\n",
    "    \n",
    "    condition = x.road_cond\n",
    "    \n",
    "    cost_min = rehab_costs.cost_min.loc[(rehab_costs.highway==highway)&(rehab_costs.road_cond==condition)].values\n",
    "    cost_max = rehab_costs.cost_max.loc[(rehab_costs.highway==highway)&(rehab_costs.road_cond==condition)].values\n",
    "    cost_unit = rehab_costs.cost_unit.loc[(rehab_costs.highway==highway)&(rehab_costs.road_cond==condition)].values\n",
    "    \n",
    "    return float(cost_min[0]) , float(cost_max[0]) , str(cost_unit[0])"
   ]
  },
  {
   "cell_type": "code",
   "execution_count": 109,
   "id": "7d498d3d",
   "metadata": {},
   "outputs": [],
   "source": [
    "costs_path = os.path.join(data_path,\"costs\",\"road_and_rail_costs.xlsx\")\n",
    "road_costs = pd.read_excel(costs_path, sheet_name = \"road_costs\")"
   ]
  },
  {
   "cell_type": "code",
   "execution_count": 110,
   "id": "704463ae",
   "metadata": {},
   "outputs": [],
   "source": [
    "road_edges = gpd.read_file(road_path, layer = \"edges\")\n",
    "road_edges[\"rehab_costs\"] = road_edges.progress_apply(lambda x:get_road_rehab_costs(x,road_costs),axis=1)\n",
    "road_edges[[\"cost_min\",\"cost_max\",\"cost_unit\"]] = road_edges[\"rehab_costs\"].progress_apply(pd.Series)\n",
    "road_edges.drop(\"rehab_costs\",axis=1,inplace=True)"
   ]
  },
  {
   "cell_type": "code",
   "execution_count": 115,
   "id": "c4292f98",
   "metadata": {},
   "outputs": [],
   "source": [
    "road_edges.to_file(road_path, layer='edges', driver='GPKG')"
   ]
  }
 ],
 "metadata": {
  "kernelspec": {
   "display_name": "Python 3 (ipykernel)",
   "language": "python",
   "name": "python3"
  },
  "language_info": {
   "codemirror_mode": {
    "name": "ipython",
    "version": 3
   },
   "file_extension": ".py",
   "mimetype": "text/x-python",
   "name": "python",
   "nbconvert_exporter": "python",
   "pygments_lexer": "ipython3",
   "version": "3.9.7"
  }
 },
 "nbformat": 4,
 "nbformat_minor": 5
}
